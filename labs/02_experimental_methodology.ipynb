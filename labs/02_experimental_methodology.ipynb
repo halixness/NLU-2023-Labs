{
 "cells": [
  {
   "cell_type": "markdown",
   "metadata": {
    "slideshow": {
     "slide_type": "slide"
    }
   },
   "source": [
    "# Experimental Methodology in Natural Language Processing\n"
   ]
  },
  {
   "cell_type": "markdown",
   "metadata": {
    "slideshow": {
     "slide_type": "slide"
    }
   },
   "source": [
    "## Objectives\n",
    "\n",
    "- Understanding \n",
    "    - the role and types of evaluation in NLP/ML\n",
    "    - the lower and upper bounds of performance\n",
    "    - correct usage of data for experimentation\n",
    "    - evaluation metrics\n",
    "    \n",
    "- Learning how to use `scikit-learn` to perform a text classification experiment\n",
    "    - provided baselines\n",
    "    - text vectorization\n",
    "    - evaluation methods"
   ]
  },
  {
   "cell_type": "markdown",
   "metadata": {
    "slideshow": {
     "slide_type": "slide"
    }
   },
   "source": [
    "### Requirements\n",
    "- [scikit-learn](https://scikit-learn.org/)\n",
    "    - run `pip install scikit-learn`"
   ]
  },
  {
   "cell_type": "markdown",
   "metadata": {
    "slideshow": {
     "slide_type": "slide"
    }
   },
   "source": [
    "## 1. Basic Concepts of Experimental Method"
   ]
  },
  {
   "cell_type": "markdown",
   "metadata": {
    "slideshow": {
     "slide_type": "slide"
    }
   },
   "source": [
    "### 1.1. Lower & Upper Bounds of the Performance\n",
    "\n",
    "#### Lower Bound: Baseline\n",
    "Trivial solution to the problem: \n",
    "\n",
    "- _random_: random decision\n",
    "- _chance_: random decision w.r.t. the distribution of categories in the training data\n",
    "- _majority_: assign everything to the largest category etc.\n",
    "- or the *state-of-the-art* model that you want to beat\n",
    "\n",
    "#### Upper Bound: Inter-rater agreement\n",
    "Usually human performance.\n",
    "\n",
    "A system is expected to perform within the lower and upper bounds.\n",
    "            "
   ]
  },
  {
   "cell_type": "markdown",
   "metadata": {
    "slideshow": {
     "slide_type": "slide"
    }
   },
   "source": [
    "### 1.2. Data Split"
   ]
  },
  {
   "cell_type": "markdown",
   "metadata": {},
   "source": [
    "#### 1.2.1. Training-Testing Split\n",
    "\n",
    "Often Data Set is split into the following parts:\n",
    "\n",
    "- _Training_: for training / extracting rules / etc.\n",
    "- _Development_ (Validation, or simply Dev): for optimization / intermediate evaluation\n",
    "- _Testing_: for the final evaluation "
   ]
  },
  {
   "cell_type": "markdown",
   "metadata": {
    "slideshow": {
     "slide_type": "slide"
    }
   },
   "source": [
    "#### 1.2.1. [K-Fold Cross-Validation](https://en.wikipedia.org/wiki/Cross-validation_(statistics))\n",
    "In k-fold cross-validation, the original sample is randomly partitioned into $k$ equal sized subsamples. Of the $k$ subsamples, a single subsample is retained as the validation data for testing the model, and the remaining $k − 1$ subsamples are used as training data. The cross-validation process is then repeated $k$ times, with each of the $k$ subsamples used exactly once as the validation data. The $k$ results can then be averaged to produce a single estimation.\n",
    "\n",
    "\\*\n",
    "<img src=\"https://scikit-learn.org/stable/_images/grid_search_cross_validation.png \" alt=\"kfold\" width=\"500\"/>\n",
    "\n",
    "\\*Image from https://scikit-learn.org/stable/modules/cross_validation.html\n",
    "\n",
    "- Random K-Fold Cross-Validation splits data into $K$ equal folds\n",
    "- Stratified K-Fold Cross-Validation additionally makes sure that the distribution of target labels is similar across different folds"
   ]
  },
  {
   "cell_type": "markdown",
   "metadata": {
    "slideshow": {
     "slide_type": "fragment"
    }
   },
   "source": [
    "The general procedure is as follows:\n",
    "\n",
    "- Shuffle the dataset randomly\n",
    "- Split the dataset into $k$ folds\n",
    "- For each unique group:\n",
    "    - Take the group as a hold out or test data set\n",
    "    - Take the remaining groups as a training data set\n",
    "    - Fit a model on the training set and evaluate it on the test set\n",
    "    - Retain the evaluation score and discard the model\n",
    "- Summarize the model performance averaging the evaluation scores"
   ]
  },
  {
   "cell_type": "markdown",
   "metadata": {
    "slideshow": {
     "slide_type": "slide"
    }
   },
   "source": [
    "## 2. Evaluation Metrics"
   ]
  },
  {
   "cell_type": "markdown",
   "metadata": {
    "slideshow": {
     "slide_type": "slide"
    }
   },
   "source": [
    "### 2.1. Contingency Table\n",
    "\n",
    "A [contingency table](https://en.wikipedia.org/wiki/Contingency_table) (also known as a _cross tabulation_ or _crosstab_) is a type of table in a matrix format that displays the (multivariate) frequency distribution of the variables. For the binary classification into positive (_POS_) and negative (_NEG_) classes, the predictions of a model (_HYP_, for hypotheses) with respect to the true labels (_REF_, for referencens) can be represented as the  matrix.\n",
    "\n",
    "|     |         | REF     |         |\n",
    "|-----|---------|:-------:|:-------:|\n",
    "|     |         | __POS__ | __NEG__ |\n",
    "| HYP | __POS__ | TP      | FP      |\n",
    "|     | __NEG__ | FN      | TN      |\n",
    "\n",
    "\n",
    "Where:\n",
    "- __TP__: True Positives (usually denoted as $a$)\n",
    "- __FP__: False Positivea ($b$)\n",
    "- __FN__: False Negatives ($c$)\n",
    "- __TN__: True Negatives ($d$)"
   ]
  },
  {
   "cell_type": "markdown",
   "metadata": {
    "slideshow": {
     "slide_type": "slide"
    }
   },
   "source": [
    "### 2.1. The Simplest Case: Accuracy\n",
    "\n",
    "$$ \\text{Accuracy} = \\frac{\\text{Num. of Correct Decisions}}{\\text{Total Num. of Instances}} $$\n",
    "\n",
    "- Known number of instances\n",
    "- Single decision for each instance \n",
    "- Single correct answer for each instance \n",
    "- All errors are equal"
   ]
  },
  {
   "cell_type": "markdown",
   "metadata": {
    "slideshow": {
     "slide_type": "fragment"
    }
   },
   "source": [
    "$$\\text{Accuracy} = \\frac{\\text{TP} + \\text{TN}}{\\text{TP} + \\text{FP} + \\text{FN} + \\text{TN}}$$"
   ]
  },
  {
   "cell_type": "markdown",
   "metadata": {
    "slideshow": {
     "slide_type": "fragment"
    }
   },
   "source": [
    "__What if TN is infinite or unknown?__\n",
    "\n",
    "e.g.: Number of irrelevant queries to a search engine"
   ]
  },
  {
   "cell_type": "markdown",
   "metadata": {
    "slideshow": {
     "slide_type": "slide"
    }
   },
   "source": [
    "### 2.2. Precision & Recall\n",
    "\n",
    "|     |         | REF     |         |             |\n",
    "|-----|---------|:-------:|:-------:|-------------|\n",
    "|     |         | __POS__ | __NEG__ |             |\n",
    "| HYP | __POS__ | TP      | FP      | _Precision_ |\n",
    "|     | __NEG__ | FN      | TN      |             |\n",
    "|     |         | _Recall_ |        |             |\n",
    "\n",
    "\n",
    "$$ \\text{Precison} = \\frac{\\text{TP}}{\\text{TP}+\\text{FP}}$$\n",
    "\n",
    "$$ \\text{Recall} = \\frac{\\text{TP}}{\\text{TP}+\\text{FN}}$$\n",
    "\n",
    "<img src=\"https://miro.medium.com/max/878/1*Ub0nZTXYT8MxLzrz0P7jPA.png\" width=\"800\"/>\n",
    "\n",
    "__2 Values__: \n",
    "\n",
    "Precision-Recall Trade-Off\n",
    "\n",
    "**Personal notes**\n",
    "- Precision: of all items declared positive, how many are right?\n",
    "- Recall: of all possible positive items, how many correctly detected?"
   ]
  },
  {
   "cell_type": "markdown",
   "metadata": {
    "slideshow": {
     "slide_type": "slide"
    }
   },
   "source": [
    "### 2.3. F-Measure\n",
    "\n",
    "- Harmonic Mean of Precision & Recall \n",
    "- Usually evenly weighted\n",
    "\n",
    "\n",
    "$$F_{\\beta} = \\frac{(1 + \\beta^2) ∗ \\text{Precision} ∗ \\text{Recall}}{\\beta^2 ∗ \\text{Precision} + \\text{Recall}}$$\n",
    "\n",
    "Most common value of $\\beta = 1$\n",
    "\n",
    "$ F_1 = \\frac{2 ∗ \\text{Precision} ∗ \\text{Recall}}{\\text{Precision} + \\text{Recall}}$"
   ]
  },
  {
   "cell_type": "markdown",
   "metadata": {
    "slideshow": {
     "slide_type": "slide"
    }
   },
   "source": [
    "### 2.4. Micro, Macro and (Macro-) Weighted Averaging\n",
    "\n",
    "In a Multi-Class setting per-class scores are averaged to produce a single score.\n",
    "There are several ways the scores could be averaged. \n",
    "\n",
    "__Micro Averaging__\n",
    "\n",
    "We compute scores summing over True Positive, True Negative, False Positive and False Negatives.\n",
    "\n",
    "__Macro Averaging__\n",
    "\n",
    "We first compute scores per class, then average the scores ignoring their distribution in the test set.\n",
    "\n",
    "__(Macro-) Weighted Averaging__\n",
    "\n",
    "Similar to Macro Averaging, but we additionally weight the scores by the class-frequency."
   ]
  },
  {
   "cell_type": "markdown",
   "metadata": {
    "slideshow": {
     "slide_type": "slide"
    }
   },
   "source": [
    "#### Precision Example\n",
    "\n",
    "Let's assume we have 3 classes. The precision formula from above is:\n",
    "\n",
    "$$ \\text{Precision} = \\frac{\\text{TP}}{\\text{TP}+\\text{FP}}$$\n",
    "\n",
    "$$\\text{Micro Precision} = \\frac{\\text{TP}_1 + \\text{TP}_2 +\\text{TP}_3}{(\\text{TP}_1 + \\text{TP}_2 +\\text{TP}_3)+(\\text{FP}_1 + \\text{FP}_2 +\\text{FP}_3)}$$\n",
    "\n",
    "$$\\text{Macro Precision} = \\frac{P_1 + P_2 + P_3}{3} = P_1 * \\frac{1}{3} + P_2 * \\frac{1}{3} + P_3 * \\frac{1}{3}$$\n",
    "\n",
    "$$\\text{Weighted Precision} = P_1 * \\frac{S_1}{N} + P_2 * \\frac{S_2}{N} + P_3 * \\frac{S_3}{N}$$\n",
    "\n",
    "Where:\n",
    "- $S$ is the support for the class (i.e. number of observations with that labels)\n",
    "- $N$ is the total number of observations"
   ]
  },
  {
   "cell_type": "markdown",
   "metadata": {
    "slideshow": {
     "slide_type": "slide"
    }
   },
   "source": [
    "## 3. Classification with Scikit-Learn\n",
    "\n",
    "- Loading Data\n",
    "- Baselines\n",
    "- Training Classifier\n",
    "- Evaluation\n"
   ]
  },
  {
   "cell_type": "markdown",
   "metadata": {
    "slideshow": {
     "slide_type": "slide"
    }
   },
   "source": [
    "### 3.1. Loading and Inspecting a Dataset\n",
    "\n",
    "`scikit-learn` comes with several toy datasets.\n",
    "Let's use one of those (iris) to perform a simple classification experiment.\n",
    "\n",
    "Iris dataset: https://archive.ics.uci.edu/ml/datasets/iris \n",
    " - 3 lineraly and not-linearly separable classes\n",
    "    \n",
    "The iris dataset is a classic and very easy multi-class classification dataset.\n",
    "\n",
    "| Property          | Value |\n",
    "|-------------------|-------|\n",
    "| Classes           |   3 |\n",
    "| Samples per class |  50 |\n",
    "| Samples total     | 150 |\n",
    "| Dimensionality    |   4 | \n",
    "| Features          | real, positive | "
   ]
  },
  {
   "cell_type": "code",
   "execution_count": 1,
   "metadata": {
    "slideshow": {
     "slide_type": "slide"
    }
   },
   "outputs": [
    {
     "name": "stdout",
     "output_type": "stream",
     "text": [
      "Classes: 3\n",
      "Samples: 150\n",
      "Dimensionality: 4\n",
      "Samples per Class: {0: 50, 1: 50, 2: 50}\n",
      "[5.1 3.5 1.4 0.2]\n",
      "(150, 4)\n",
      "(150,)\n"
     ]
    }
   ],
   "source": [
    "from sklearn.datasets import load_iris\n",
    "from collections import Counter\n",
    "data = load_iris()\n",
    "\n",
    "print(\"Classes: {}\".format(len(list(data.target_names))))\n",
    "print(\"Samples: {}\".format(len(data.data)))\n",
    "print(\"Dimensionality: {}\".format(len(list(data.feature_names))))\n",
    "print(\"Samples per Class: {}\".format(dict(Counter(list(data.target)))))\n",
    "\n",
    "print(data.data[0])  # prints feature vector\n",
    "\n",
    "print(data.data.shape)  # prints matrix shape for data\n",
    "print(data.target.shape)  # print matrix shape for labels\n",
    "\n",
    "# print(data.DESCR)  # prints full data set description\n",
    "# print(data.data)  # prints features\n",
    "# print(data.target) # prints labels"
   ]
  },
  {
   "cell_type": "markdown",
   "metadata": {
    "slideshow": {
     "slide_type": "slide"
    }
   },
   "source": [
    "### 3.2. Splitting the Dataset\n",
    "\n",
    "- Random K-Fold Split\n",
    "- Stratified K-Fold Split"
   ]
  },
  {
   "cell_type": "code",
   "execution_count": 2,
   "metadata": {
    "scrolled": true,
    "slideshow": {
     "slide_type": "fragment"
    }
   },
   "outputs": [
    {
     "name": "stdout",
     "output_type": "stream",
     "text": [
      "Samples per Class in Training: {0: 41, 1: 41, 2: 38}\n",
      "Samples per Class in Testing: {0: 9, 1: 9, 2: 12}\n",
      "\n",
      "Samples per Class in Training: {0: 43, 1: 39, 2: 38}\n",
      "Samples per Class in Testing: {0: 7, 1: 11, 2: 12}\n",
      "\n",
      "Samples per Class in Training: {0: 39, 1: 42, 2: 39}\n",
      "Samples per Class in Testing: {0: 11, 1: 8, 2: 11}\n",
      "\n",
      "Samples per Class in Training: {0: 37, 1: 40, 2: 43}\n",
      "Samples per Class in Testing: {0: 13, 1: 10, 2: 7}\n",
      "\n",
      "Samples per Class in Training: {0: 40, 1: 38, 2: 42}\n",
      "Samples per Class in Testing: {0: 10, 1: 12, 2: 8}\n",
      "\n"
     ]
    }
   ],
   "source": [
    "from sklearn.model_selection import KFold\n",
    "n_split = 5\n",
    "random_split = KFold(n_splits= n_split, shuffle=True)\n",
    "\n",
    "# 5 splits, for each train/test (K-1 and Kth folds): 30/150 = 1/5 => K = 5 folds\n",
    "for train_index, test_index in random_split.split(data.data):\n",
    "    \n",
    "    print(\"Samples per Class in Training: {}\".format(dict(Counter(list(data.target[train_index])))))\n",
    "    print(\"Samples per Class in Testing: {}\\n\".format(dict(Counter(list(data.target[test_index])))))\n",
    "    "
   ]
  },
  {
   "cell_type": "code",
   "execution_count": 3,
   "metadata": {},
   "outputs": [
    {
     "name": "stderr",
     "output_type": "stream",
     "text": [
      "C:\\Users\\xdieg\\AppData\\Local\\Temp\\ipykernel_23956\\895836917.py:10: MatplotlibDeprecationWarning: Passing the minor parameter of set_xticks() positionally is deprecated since Matplotlib 3.2; the parameter will become keyword-only two minor releases later.\n",
      "  ax.set_xticks(x, labels)\n"
     ]
    },
    {
     "data": {
      "image/png": "[encoded data removed]",
      "text/plain": [
       "<Figure size 1200x500 with 1 Axes>"
      ]
     },
     "metadata": {},
     "output_type": "display_data"
    },
    {
     "data": {
      "image/png": "[encoded data removed]",
      "text/plain": [
       "<Figure size 1200x500 with 1 Axes>"
      ]
     },
     "metadata": {},
     "output_type": "display_data"
    }
   ],
   "source": [
    "import matplotlib.pyplot as plt\n",
    "import numpy as np\n",
    "\n",
    "def plot_bars(values, labels, width=0.35, title=\"\"):\n",
    "    x = np.arange(len(labels))  # the label locations\n",
    "    fig, ax = plt.subplots(figsize=(12,5))\n",
    "    ax.set_ylabel('Frequency')\n",
    "    ax.set_xlabel('Classes')\n",
    "    ax.set_title(title)\n",
    "    ax.set_xticks(x, labels)\n",
    "    \n",
    "    center = round(len(values)/2)\n",
    "    for id_x, temp in enumerate(values):\n",
    "        new_x = x + width/len(values) * (id_x-center)\n",
    "        lab = 'split'+str(id_x+1)\n",
    "        ax.bar(new_x, temp, width/len(values), label=lab)\n",
    "\n",
    "    ax.legend(loc='lower right')\n",
    "    plt.show()\n",
    "\n",
    "split_train = []\n",
    "split_test = []\n",
    "\n",
    "for train_index, test_index in random_split.split(data.data):    \n",
    "    # For each split append the target label counts: 0 => x, 1 => y, 2 => z\n",
    "    split_train.append([ v for _, v in sorted(Counter(list(data.target[train_index])).items())])\n",
    "    split_test.append([ v for _, v in sorted(Counter(list(data.target[test_index])).items())])\n",
    "\n",
    "\n",
    "plot_bars(split_train, [0,1,2], title='Random split Train')\n",
    "\n",
    "plot_bars(split_test, [0,1,2], title='Random split Test')\n",
    "\n",
    "# Add some text for labels, title and custom x-axis tick labels, etc.\n",
    "\n"
   ]
  },
  {
   "cell_type": "code",
   "execution_count": 4,
   "metadata": {
    "slideshow": {
     "slide_type": "slide"
    }
   },
   "outputs": [
    {
     "name": "stdout",
     "output_type": "stream",
     "text": [
      "Samples per Class in Training: {0: 40, 1: 40, 2: 40}\n",
      "Samples per Class in Testing: {0: 10, 1: 10, 2: 10}\n",
      "Samples per Class in Training: {0: 40, 1: 40, 2: 40}\n",
      "Samples per Class in Testing: {0: 10, 1: 10, 2: 10}\n",
      "Samples per Class in Training: {0: 40, 1: 40, 2: 40}\n",
      "Samples per Class in Testing: {0: 10, 1: 10, 2: 10}\n",
      "Samples per Class in Training: {0: 40, 1: 40, 2: 40}\n",
      "Samples per Class in Testing: {0: 10, 1: 10, 2: 10}\n",
      "Samples per Class in Training: {0: 40, 1: 40, 2: 40}\n",
      "Samples per Class in Testing: {0: 10, 1: 10, 2: 10}\n"
     ]
    }
   ],
   "source": [
    "from sklearn.model_selection import StratifiedKFold\n",
    "\n",
    "# This ensures class balance?\n",
    "stratified_split = StratifiedKFold(n_splits=5, shuffle=True)\n",
    "\n",
    "for train_index, test_index in stratified_split.split(data.data, data.target):\n",
    "    \n",
    "    print(\"Samples per Class in Training: {}\".format(dict(Counter(list(data.target[train_index])))))\n",
    "    print(\"Samples per Class in Testing: {}\".format(dict(Counter(list(data.target[test_index])))))"
   ]
  },
  {
   "cell_type": "code",
   "execution_count": 5,
   "metadata": {},
   "outputs": [
    {
     "name": "stderr",
     "output_type": "stream",
     "text": [
      "C:\\Users\\xdieg\\AppData\\Local\\Temp\\ipykernel_23956\\895836917.py:10: MatplotlibDeprecationWarning: Passing the minor parameter of set_xticks() positionally is deprecated since Matplotlib 3.2; the parameter will become keyword-only two minor releases later.\n",
      "  ax.set_xticks(x, labels)\n"
     ]
    },
    {
     "data": {
      "image/png": "[encoded data removed]",
      "text/plain": [
       "<Figure size 1200x500 with 1 Axes>"
      ]
     },
     "metadata": {},
     "output_type": "display_data"
    },
    {
     "data": {
      "image/png": "[encoded data removed]",
      "text/plain": [
       "<Figure size 1200x500 with 1 Axes>"
      ]
     },
     "metadata": {},
     "output_type": "display_data"
    }
   ],
   "source": [
    "split_train = []\n",
    "split_test = []\n",
    "for train_index, test_index in stratified_split.split(data.data, data.target):    \n",
    "    split_train.append([ v for _, v in sorted(Counter(list(data.target[train_index])).items())])\n",
    "    split_test.append([ v for _, v in sorted(Counter(list(data.target[test_index])).items())])\n",
    "    \n",
    "plot_bars(split_train, [0,1,3], title='Stratified split Train')\n",
    "plot_bars(split_test, [0,1,3], title='Stratified split Test')"
   ]
  },
  {
   "cell_type": "markdown",
   "metadata": {
    "slideshow": {
     "slide_type": "slide"
    }
   },
   "source": [
    "### 3.3. Training and Testing the Model"
   ]
  },
  {
   "cell_type": "markdown",
   "metadata": {
    "slideshow": {
     "slide_type": "slide"
    }
   },
   "source": [
    "#### 3.3.1. Classification Process\n",
    "\n",
    "- Select the classification algorithm from [Supervised Learning](https://scikit-learn.org/stable/supervised_learning.html)\n",
    "- Train on training data\n",
    "- Predict labels on testing data\n",
    "- Score prediction comparing predicted and reference labels"
   ]
  },
  {
   "cell_type": "code",
   "execution_count": 6,
   "metadata": {
    "slideshow": {
     "slide_type": "fragment"
    }
   },
   "outputs": [
    {
     "name": "stdout",
     "output_type": "stream",
     "text": [
      "Accuracy: 0.867\n",
      "Accuracy: 0.967\n",
      "Accuracy: 0.967\n",
      "Accuracy: 1.0\n",
      "Accuracy: 1.0\n"
     ]
    }
   ],
   "source": [
    "from sklearn.naive_bayes import GaussianNB\n",
    "\n",
    "# choose classification algorithm & initialize it\n",
    "clf = GaussianNB()\n",
    "\n",
    "# for each training/testing fold\n",
    "for train_index, test_index in stratified_split.split(data.data, data.target):\n",
    "    # train (fit) model\n",
    "    clf.fit(data.data[train_index], data.target[train_index])\n",
    "    \n",
    "    # predict test labels\n",
    "    clf.predict(data.data[test_index])\n",
    "    \n",
    "    # score the model (using average accuracy for now)\n",
    "    accuracy = clf.score(data.data[test_index], data.target[test_index])\n",
    "    \n",
    "    print(\"Accuracy: {:.3}\".format(accuracy))\n",
    "\n"
   ]
  },
  {
   "cell_type": "markdown",
   "metadata": {
    "slideshow": {
     "slide_type": "slide"
    }
   },
   "source": [
    "#### 3.3.2. Baselines\n",
    "\n",
    "Scikit-learn provides baselines via `DummyClassifier` class that takes `strategy` argument. The following baselines can be obtaing:\n",
    "\n",
    "- random baseline: `uniform`\n",
    "- chance baseline: `stratified`\n",
    "- majority baseline: `most_frequent`\n"
   ]
  },
  {
   "cell_type": "code",
   "execution_count": 7,
   "metadata": {
    "slideshow": {
     "slide_type": "fragment"
    }
   },
   "outputs": [
    {
     "name": "stdout",
     "output_type": "stream",
     "text": [
      "Accuracy: 0.433\n",
      "Accuracy: 0.433\n",
      "Accuracy: 0.3\n",
      "Accuracy: 0.267\n",
      "Accuracy: 0.267\n"
     ]
    }
   ],
   "source": [
    "from sklearn.dummy import DummyClassifier\n",
    "\n",
    "random_clf = DummyClassifier(strategy=\"uniform\")\n",
    "\n",
    "for train_index, test_index in stratified_split.split(data.data, data.target):\n",
    "    random_clf.fit(data.data[train_index], data.target[train_index])\n",
    "    random_clf.predict(data.data[test_index])\n",
    "    accuracy = random_clf.score(data.data[test_index], data.target[test_index])\n",
    "    \n",
    "    print(\"Accuracy: {:.3}\".format(accuracy))\n"
   ]
  },
  {
   "cell_type": "markdown",
   "metadata": {
    "slideshow": {
     "slide_type": "slide"
    }
   },
   "source": [
    "#### Exercise\n",
    "\n",
    "Try `stratified` and `most_frequent` strategies and observe performances"
   ]
  },
  {
   "cell_type": "code",
   "execution_count": 8,
   "metadata": {},
   "outputs": [
    {
     "name": "stdout",
     "output_type": "stream",
     "text": [
      "Accuracy: 0.3\n",
      "Accuracy: 0.4\n",
      "Accuracy: 0.467\n",
      "Accuracy: 0.3\n",
      "Accuracy: 0.4\n"
     ]
    }
   ],
   "source": [
    "# X = stratified or most_frequent\n",
    "\n",
    "dummy_clf = DummyClassifier(strategy= \"stratified\")\n",
    "\n",
    "for train_index, test_index in stratified_split.split(data.data, data.target):\n",
    "    dummy_clf.fit(data.data[train_index], data.target[train_index])\n",
    "    dummy_clf.predict(data.data[test_index])\n",
    "    accuracy = dummy_clf.score(data.data[test_index], data.target[test_index])\n",
    "    \n",
    "    print(\"Accuracy: {:.3}\".format(accuracy))"
   ]
  },
  {
   "cell_type": "code",
   "execution_count": 9,
   "metadata": {},
   "outputs": [
    {
     "name": "stdout",
     "output_type": "stream",
     "text": [
      "Accuracy: 0.333\n",
      "Accuracy: 0.333\n",
      "Accuracy: 0.333\n",
      "Accuracy: 0.333\n",
      "Accuracy: 0.333\n"
     ]
    }
   ],
   "source": [
    "# X = stratified or most_frequent\n",
    "\n",
    "dummy_clf = DummyClassifier(strategy= \"most_frequent\")\n",
    "\n",
    "for train_index, test_index in stratified_split.split(data.data, data.target):\n",
    "    dummy_clf.fit(data.data[train_index], data.target[train_index])\n",
    "    dummy_clf.predict(data.data[test_index])\n",
    "    accuracy = dummy_clf.score(data.data[test_index], data.target[test_index])\n",
    "    \n",
    "    print(\"Accuracy: {:.3}\".format(accuracy))"
   ]
  },
  {
   "cell_type": "markdown",
   "metadata": {
    "slideshow": {
     "slide_type": "slide"
    }
   },
   "source": [
    "#### 3.3.3. Better Classification Report\n",
    "\n",
    "scikit-learn provides functions to report more informative performance values using [`classification_report`](https://scikit-learn.org/stable/modules/generated/sklearn.metrics.classification_report.html)."
   ]
  },
  {
   "cell_type": "code",
   "execution_count": 10,
   "metadata": {
    "slideshow": {
     "slide_type": "fragment"
    }
   },
   "outputs": [
    {
     "name": "stdout",
     "output_type": "stream",
     "text": [
      "              precision    recall  f1-score   support\n",
      "\n",
      "      setosa       1.00      1.00      1.00        10\n",
      "  versicolor       1.00      1.00      1.00        10\n",
      "   virginica       1.00      1.00      1.00        10\n",
      "\n",
      "    accuracy                           1.00        30\n",
      "   macro avg       1.00      1.00      1.00        30\n",
      "weighted avg       1.00      1.00      1.00        30\n",
      "\n",
      "              precision    recall  f1-score   support\n",
      "\n",
      "      setosa       1.00      1.00      1.00        10\n",
      "  versicolor       0.90      0.90      0.90        10\n",
      "   virginica       0.90      0.90      0.90        10\n",
      "\n",
      "    accuracy                           0.93        30\n",
      "   macro avg       0.93      0.93      0.93        30\n",
      "weighted avg       0.93      0.93      0.93        30\n",
      "\n",
      "              precision    recall  f1-score   support\n",
      "\n",
      "      setosa       1.00      1.00      1.00        10\n",
      "  versicolor       1.00      0.90      0.95        10\n",
      "   virginica       0.91      1.00      0.95        10\n",
      "\n",
      "    accuracy                           0.97        30\n",
      "   macro avg       0.97      0.97      0.97        30\n",
      "weighted avg       0.97      0.97      0.97        30\n",
      "\n",
      "              precision    recall  f1-score   support\n",
      "\n",
      "      setosa       1.00      1.00      1.00        10\n",
      "  versicolor       1.00      1.00      1.00        10\n",
      "   virginica       1.00      1.00      1.00        10\n",
      "\n",
      "    accuracy                           1.00        30\n",
      "   macro avg       1.00      1.00      1.00        30\n",
      "weighted avg       1.00      1.00      1.00        30\n",
      "\n",
      "              precision    recall  f1-score   support\n",
      "\n",
      "      setosa       1.00      1.00      1.00        10\n",
      "  versicolor       0.77      1.00      0.87        10\n",
      "   virginica       1.00      0.70      0.82        10\n",
      "\n",
      "    accuracy                           0.90        30\n",
      "   macro avg       0.92      0.90      0.90        30\n",
      "weighted avg       0.92      0.90      0.90        30\n",
      "\n"
     ]
    }
   ],
   "source": [
    "from sklearn.naive_bayes import GaussianNB\n",
    "from sklearn.metrics import classification_report\n",
    "\n",
    "# choose classification algorithm & initialize it\n",
    "clf = GaussianNB()\n",
    "\n",
    "# for each training/testing fold\n",
    "for train_index, test_index in stratified_split.split(data.data, data.target):\n",
    "    # train (fit) model\n",
    "    clf.fit(data.data[train_index], data.target[train_index])\n",
    "    # predict test labels\n",
    "    hyps = clf.predict(data.data[test_index])\n",
    "    refs = data.target[test_index]\n",
    "    \n",
    "    # each measure is computed 1 vs. all others\n",
    "    report = classification_report(refs, hyps, target_names=data.target_names)\n",
    "    \n",
    "    print(report)\n",
    "    "
   ]
  },
  {
   "cell_type": "markdown",
   "metadata": {
    "slideshow": {
     "slide_type": "slide"
    }
   },
   "source": [
    "#### 3.3.4. Cross-Validation Evaluation\n",
    "\n",
    "The cross-validation procedure and function of scikit-learn are described in [the documentation](https://scikit-learn.org/stable/modules/cross_validation.html)."
   ]
  },
  {
   "cell_type": "code",
   "execution_count": 11,
   "metadata": {
    "slideshow": {
     "slide_type": "fragment"
    }
   },
   "outputs": [
    {
     "name": "stdout",
     "output_type": "stream",
     "text": [
      "[0.93333333 0.96666667 0.93333333 0.93333333 1.        ]\n"
     ]
    }
   ],
   "source": [
    "from sklearn.naive_bayes import GaussianNB\n",
    "from sklearn.model_selection import cross_val_score\n",
    "\n",
    "# choose classification algorithm & initialize it\n",
    "clf = GaussianNB()\n",
    "# get scores, all in one function\n",
    "scores = cross_val_score(clf, data.data, data.target, cv=5)\n",
    "\n",
    "print(scores)\n"
   ]
  },
  {
   "cell_type": "markdown",
   "metadata": {
    "slideshow": {
     "slide_type": "slide"
    }
   },
   "source": [
    "Cross-Validation using custom split and scoring.\n",
    "\n",
    "The cross_validate function differs from cross_val_score in two ways:\n",
    "\n",
    "- It allows specifying multiple metrics for evaluation.\n",
    "\n",
    "- It returns a dict containing fit-times, score-times (and optionally training scores as well as fitted estimators) in addition to the test score."
   ]
  },
  {
   "cell_type": "code",
   "execution_count": 12,
   "metadata": {
    "slideshow": {
     "slide_type": "fragment"
    }
   },
   "outputs": [
    {
     "name": "stdout",
     "output_type": "stream",
     "text": [
      "0.9532497911445279\n"
     ]
    }
   ],
   "source": [
    "from sklearn.naive_bayes import GaussianNB\n",
    "from sklearn.model_selection import cross_validate\n",
    "\n",
    "# choose classification algorithm & initialize it\n",
    "clf = GaussianNB()\n",
    "# scoring providing our custom split & scoring using \n",
    "scores = cross_validate(clf, data.data, data.target, cv=stratified_split, scoring=['f1_macro'])\n",
    "\n",
    "print(sum(scores['test_f1_macro'])/len(scores['test_f1_macro']))\n"
   ]
  },
  {
   "cell_type": "markdown",
   "metadata": {
    "slideshow": {
     "slide_type": "slide"
    }
   },
   "source": [
    "#### Exercise\n",
    "- Read [documentation](https://scikit-learn.org/stable/modules/model_evaluation.html)\n",
    "- Try different evaluation scores\n",
    "    - For instance, change f1_macro with f1_micro or f1_weighted"
   ]
  },
  {
   "cell_type": "code",
   "execution_count": 13,
   "metadata": {},
   "outputs": [
    {
     "name": "stdout",
     "output_type": "stream",
     "text": [
      "0.9533166248955723\n"
     ]
    }
   ],
   "source": [
    "from sklearn.naive_bayes import GaussianNB\n",
    "from sklearn.model_selection import cross_validate\n",
    "\n",
    "\n",
    "clf = GaussianNB()\n",
    "\n",
    "scores = cross_validate(clf, data.data, data.target, cv=stratified_split, scoring=['f1_weighted'])\n",
    "\n",
    "print(sum(scores['test_f1_weighted'])/len(scores['test_f1_weighted']))"
   ]
  },
  {
   "cell_type": "markdown",
   "metadata": {
    "slideshow": {
     "slide_type": "slide"
    }
   },
   "source": [
    "### 3.4. Vectorizing Text\n",
    "\n",
    "> The raw data, a sequence of symbols cannot be fed directly to the algorithms themselves as most of them expect numerical feature vectors with a fixed size rather than the raw text documents with variable length.\n",
    "\n",
    "Consequently, the additional step that **text classification** requires is vectorization that converts text into a vector of numerical values. `scikit-learn` provides several vectorization methods in `sklearn.feature_extraction` [module](https://scikit-learn.org/stable/modules/feature_extraction.html#text-feature-extraction). Most commonly used ones are:\n",
    "\n",
    "- Count Vectorization\n",
    "- TF-IDF Vectorization\n",
    "\n",
    "Problem:\n",
    "    - We need to covert the string e.g. 'Hello World' into a matrix in which the rows are the vectors that represent the words. The the word-vector dimensionality, i.e. the number of columns, depends on the encoding method.\n",
    "   \n",
    "Result: \n",
    "```\n",
    "      [\n",
    " Hello [0, 1],\n",
    " World [1, 0],\n",
    "      ]\n",
    "```"
   ]
  },
  {
   "cell_type": "markdown",
   "metadata": {
    "slideshow": {
     "slide_type": "slide"
    }
   },
   "source": [
    "#### 3.4.1. Bag-of-Words Representation\n",
    "\n",
    "[Count Vectorization](https://scikit-learn.org/stable/modules/generated/sklearn.feature_extraction.text.CountVectorizer.html) implements the following vectorization procedure. \n",
    "\n",
    "- *tokenizing* strings and giving an integer id for each possible token, for instance by using white-spaces and punctuation as token separators.\n",
    "\n",
    "- *counting* the occurrences of tokens in each document.\n",
    "\n",
    "- *normalizing* and *weighting* with diminishing importance tokens that occur in the majority of samples / documents.\n",
    "\n",
    "Each token is considered to be a __feature__ and the vector of all the token frequencies for a given document is considered a multivariate __sample__. Consequently, a corpus of documents is represented by a matrix with one row per document and one column per token (e.g. word) occurring in the corpus.\n",
    "\n",
    "> If you do not provide an a-priori dictionary and you do not use an analyzer that does some kind of feature selection then the number of features will be equal to the vocabulary size found by analyzing the data."
   ]
  },
  {
   "cell_type": "markdown",
   "metadata": {
    "slideshow": {
     "slide_type": "slide"
    }
   },
   "source": [
    "The [`CountVectorizer`](https://scikit-learn.org/stable/modules/generated/sklearn.feature_extraction.text.CountVectorizer.html) implements both tokenization and occurrence counting in a single class, and it is possible to provide many parameters. \n",
    "\n",
    "It can take an external preprocessor or perform the following preprocessing steps (read documentation for details):\n",
    "\n",
    "- __strip_accents__: remove accents and perform other character normalization during the preprocessing step.\n",
    "- __lowercase__: convert all characters to lowercase before tokenizing.\n",
    "- __stop_words__: apply a built-in stop word list for English is used. \n",
    "- __token_pattern__: regular expression denoting what constitutes a *token* for tokenization\n",
    "- __ngram_range__: The lower and upper boundary of the range of n-values for different word n-grams or char n-grams to be extracted. (We will see ngrams the next lab)\n",
    "- __max_df__: maximum frequency cut-off: When building the vocabulary ignore terms that have a document frequency strictly higher than the given threshold (corpus-specific stop words). \n",
    "- __min_df__: minimum frequency cut-off: When building the vocabulary ignore terms that have a document frequency strictly lower than the given threshold. \n",
    "- __vocabulary__: externally provided vocabulary\n",
    "- __binary__: If True, all non zero counts are set to 1. This is useful for discrete probabilistic models that model binary events rather than integer counts."
   ]
  },
  {
   "cell_type": "markdown",
   "metadata": {
    "slideshow": {
     "slide_type": "slide"
    }
   },
   "source": [
    "#### 3.4.2. [TF-IDF Vectorization](https://scikit-learn.org/stable/modules/generated/sklearn.feature_extraction.text.TfidfVectorizer.html)  \n",
    "TF-IDF Vectorization = Count Vectorization + TF-IDF Transformation\n",
    "\n",
    "> Transforms a count matrix to a normalized tf or tf-idf representation\n",
    "\n",
    "> __Tf__ means term-frequency while __tf-idf__ means term-frequency times inverse document-frequency. This is a common term weighting scheme in information retrieval, that has also found good use in document classification.\n",
    "\n",
    "> The goal of using tf-idf instead of the raw frequencies of occurrence of a token in a given document is to **scale down the impact of tokens that occur very frequently in a given corpus** and that are hence empirically less informative than features that occur in a small fraction of the training corpus.\n",
    "\n",
    "(Please refer to the documentation for the transformation formulas)."
   ]
  },
  {
   "cell_type": "markdown",
   "metadata": {
    "slideshow": {
     "slide_type": "slide"
    }
   },
   "source": [
    "#### 3.4.3. Vectorization Example"
   ]
  },
  {
   "cell_type": "code",
   "execution_count": 14,
   "metadata": {
    "slideshow": {
     "slide_type": "slide"
    }
   },
   "outputs": [
    {
     "name": "stdout",
     "output_type": "stream",
     "text": [
      "[[0 0 0 0 0 0 0 0 0 0 0 1 0 1 0 0 0 0 1 1 0 1 0 0 1 0 1 0 1]\n",
      " [0 0 1 0 0 0 0 0 1 0 1 0 0 0 0 0 0 0 0 0 0 0 0 1 0 1 0 0 0]\n",
      " [1 0 0 0 1 0 0 0 0 0 0 0 1 0 1 0 0 0 0 0 0 0 0 0 0 2 0 1 1]\n",
      " [0 1 0 0 0 1 1 0 0 1 0 0 0 0 0 1 1 0 0 0 0 0 1 0 0 3 0 0 0]\n",
      " [0 0 0 1 0 0 0 1 0 0 0 0 0 0 0 0 0 1 0 1 1 0 0 0 0 0 0 0 1]]\n",
      "['actor', 'actress', 'credits', 'dory', 'exorcist', 'female', 'find', 'finding', 'for', 'from', 'godfather', 'hope', 'in', 'luke', 'main', 'man', 'movie', 'nemo', 'new', 'on', 'played', 'plays', 'she', 'show', 'star', 'the', 'wars', 'was', 'who']\n"
     ]
    },
    {
     "name": "stderr",
     "output_type": "stream",
     "text": [
      "C:\\Users\\xdieg\\anaconda3\\envs\\pytorch_deeplearning\\lib\\site-packages\\sklearn\\utils\\deprecation.py:87: FutureWarning: Function get_feature_names is deprecated; get_feature_names is deprecated in 1.0 and will be removed in 1.2. Please use get_feature_names_out instead.\n",
      "  warnings.warn(msg, category=FutureWarning)\n"
     ]
    }
   ],
   "source": [
    "from sklearn.feature_extraction.text import CountVectorizer\n",
    "\n",
    "corpus = [\n",
    "    'who plays luke on star wars new hope',\n",
    "    'show credits for the godfather',\n",
    "    'who was the main actor in the exorcist',\n",
    "    'find the female actress from the movie she \\'s the man',\n",
    "    'who played dory on finding nemo'\n",
    "]\n",
    "\n",
    "vectorizer = CountVectorizer()\n",
    "\n",
    "# use fit_transform to 'learn' the features and vectorize the data\n",
    "vectors = vectorizer.fit_transform(corpus)\n",
    "\n",
    "print(vectors.toarray())  # print numpy vectors\n",
    "\n",
    "# To print the labels of the columns\n",
    "print(vectorizer.get_feature_names())\n",
    "# or\n",
    "#print(vectorizer.get_feature_names_out())"
   ]
  },
  {
   "cell_type": "code",
   "execution_count": 15,
   "metadata": {
    "slideshow": {
     "slide_type": "fragment"
    }
   },
   "outputs": [
    {
     "name": "stdout",
     "output_type": "stream",
     "text": [
      "[[0 0 0 0 0 1 0 0 0 0 0 0 1 0 0 0 0 0 0 0 0 0 0 0 0 1 0 1 1]\n",
      " [0 0 0 0 0 0 0 0 0 0 0 0 1 0 0 0 0 0 0 0 1 0 0 0 0 0 0 0 1]]\n"
     ]
    }
   ],
   "source": [
    "test_corpus = [\n",
    "    'who was the female lead in resident evil',\n",
    "    'who played guido in life is beautiful'\n",
    "]\n",
    "\n",
    "# 'trained' vectorizer can be later used to transform the test set \n",
    "test_vectors = vectorizer.transform(test_corpus)\n",
    "print(test_vectors.toarray())"
   ]
  },
  {
   "cell_type": "markdown",
   "metadata": {
    "slideshow": {
     "slide_type": "slide"
    }
   },
   "source": [
    "## Lab Exercise: Text Classification\n",
    "\n",
    "- Using Newsgroup dataset from `scikit-learn` train and evaluate Linear SVM (LinearSVC) model\n",
    "- Experiment with different vectorization methods and parameters, experiment_id in parentheses (e.g. CounVector, CutOff, etc.):\n",
    "    - `binary` of Count Vectorization (CountVect)\n",
    "    - TF-IDF Transformation (TF-IDF)\n",
    "    - Using TF-IDF\n",
    "        - min and max cut-offs (CutOff)\n",
    "        - wihtout stop-words (WithoutStopWords)\n",
    "        - without lowercasing (NoLowercase)\n",
    " \n",
    "To print the results:\n",
    "print(experiment_id, the most appropriate score metric to report))\n",
    "\n",
    "**Note**:\n",
    "If the SVM doesn't converge play with the $C$ hyperparameter (starting from a low value).\n"
   ]
  },
  {
   "cell_type": "code",
   "execution_count": 16,
   "metadata": {},
   "outputs": [],
   "source": [
    "from sklearn.datasets import fetch_20newsgroups\n",
    "from sklearn.feature_extraction.text import TfidfVectorizer\n",
    "from sklearn.feature_extraction.text import CountVectorizer\n",
    "from tqdm import tqdm\n",
    "from sklearn.svm import LinearSVC\n",
    "from sklearn.model_selection import StratifiedKFold\n",
    "from sklearn.metrics import classification_report\n",
    "from sklearn.model_selection import cross_validate\n",
    "from sklearn.model_selection import KFold\n",
    "from sklearn.metrics import f1_score\n",
    "import random"
   ]
  },
  {
   "cell_type": "code",
   "execution_count": 17,
   "metadata": {},
   "outputs": [],
   "source": [
    "import warnings\n",
    "warnings.filterwarnings(\"ignore\", category=DeprecationWarning)\n",
    "warnings.filterwarnings(\"ignore\", category=FutureWarning) "
   ]
  },
  {
   "cell_type": "code",
   "execution_count": 18,
   "metadata": {
    "slideshow": {
     "slide_type": "slide"
    }
   },
   "outputs": [
    {
     "name": "stdout",
     "output_type": "stream",
     "text": [
      "Samples: \t11314\n",
      "Max doc len: \t75154\n"
     ]
    }
   ],
   "source": [
    "newsgroups = fetch_20newsgroups()\n",
    "\n",
    "print(f\"Samples: \\t{len(newsgroups['data'])}\")\n",
    "print(f\"Max doc len: \\t{max([len(d) for d in newsgroups['data']])}\")"
   ]
  },
  {
   "cell_type": "code",
   "execution_count": 19,
   "metadata": {},
   "outputs": [
    {
     "data": {
      "text/plain": [
       "array([7, 4, 4, ..., 3, 1, 8])"
      ]
     },
     "execution_count": 19,
     "metadata": {},
     "output_type": "execute_result"
    }
   ],
   "source": [
    "newsgroups.target"
   ]
  },
  {
   "cell_type": "code",
   "execution_count": 20,
   "metadata": {},
   "outputs": [],
   "source": [
    "# A helper function to conduct experiments easily\n",
    "def experiment(X, Y):\n",
    "    \n",
    "    split_strategy = KFold(n_splits=5, shuffle=True)\n",
    "    \n",
    "    dual_formulation = (X.shape[1] > X.shape[0])\n",
    "    clf = LinearSVC(random_state=42, dual = dual_formulation, C = 3, max_iter = 5e3) # C: regularization penalty multiplier\n",
    "    if dual_formulation: print(\"Using SVM in dual variables.\")\n",
    "    \n",
    "    scores = []\n",
    "    \n",
    "    for train_index, test_index in tqdm(split_strategy.split(X, Y)):\n",
    "        clf.fit(X[train_index], Y[train_index])\n",
    "        \n",
    "        y_pred = clf.predict(X[test_index])\n",
    "        \n",
    "        scores.append(f1_score(y_pred, Y[test_index], average=\"weighted\"))\n",
    "        \n",
    "    report = classification_report(y_pred, Y[test_index])\n",
    "    \n",
    "    del split_strategy\n",
    "    del clf \n",
    "    return sum(scores) / len(scores)"
   ]
  },
  {
   "cell_type": "code",
   "execution_count": 21,
   "metadata": {},
   "outputs": [],
   "source": [
    "experiments = {}"
   ]
  },
  {
   "cell_type": "markdown",
   "metadata": {},
   "source": [
    "**CountVectorizer (binary count)**"
   ]
  },
  {
   "cell_type": "code",
   "execution_count": 22,
   "metadata": {},
   "outputs": [
    {
     "name": "stdout",
     "output_type": "stream",
     "text": [
      "# features: \t130107\n",
      "# samples: \t11314\n"
     ]
    }
   ],
   "source": [
    "vectorizer = CountVectorizer(binary=True) # faster, not counting but just flagging\n",
    "newsgroups_docs = vectorizer.fit_transform(newsgroups[\"data\"]).toarray()\n",
    "\n",
    "n_features = len(vectorizer.get_feature_names_out())\n",
    "n_samples = newsgroups_docs.shape[0]\n",
    "\n",
    "print(f\"# features: \\t{n_features}\")\n",
    "print(f\"# samples: \\t{n_samples}\")"
   ]
  },
  {
   "cell_type": "code",
   "execution_count": 23,
   "metadata": {},
   "outputs": [
    {
     "name": "stdout",
     "output_type": "stream",
     "text": [
      "Using SVM in dual variables.\n"
     ]
    },
    {
     "name": "stderr",
     "output_type": "stream",
     "text": [
      "5it [03:30, 42.01s/it]\n"
     ]
    }
   ],
   "source": [
    "score = experiment(newsgroups_docs, newsgroups.target)\n",
    "del newsgroups_docs"
   ]
  },
  {
   "cell_type": "code",
   "execution_count": 24,
   "metadata": {},
   "outputs": [
    {
     "name": "stdout",
     "output_type": "stream",
     "text": [
      "experiment_1\t F1 weighted score: 0.8844153954751353\n"
     ]
    }
   ],
   "source": [
    "experiments[\"CountVectorizer\"] = score\n",
    "print(f\"experiment_{len(experiments.keys())}\\t F1 weighted score: {score}\")"
   ]
  },
  {
   "cell_type": "markdown",
   "metadata": {},
   "source": [
    "**TF-IDF Transformation**"
   ]
  },
  {
   "cell_type": "code",
   "execution_count": 25,
   "metadata": {},
   "outputs": [
    {
     "data": {
      "text/plain": [
       "[[1, 1169, True, None],\n",
       " [5, 1438, True, 'english'],\n",
       " [5, 699, True, 'english'],\n",
       " [10, 1409, False, None],\n",
       " [4, 793, False, 'english'],\n",
       " [5, 727, True, None],\n",
       " [9, 1262, True, 'english'],\n",
       " [1, 759, False, 'english'],\n",
       " [2, 1441, False, None],\n",
       " [3, 1008, False, None]]"
      ]
     },
     "execution_count": 25,
     "metadata": {},
     "output_type": "execute_result"
    }
   ],
   "source": [
    "n_exps = 10\n",
    "cutoffs = [[\n",
    "    random.randint(1, 10), \n",
    "    random.randint(500, 1500),\n",
    "    random.choice([True, False]),\n",
    "    random.choice([\"english\", None])\n",
    "] for i in range(n_exps)]\n",
    "cutoffs"
   ]
  },
  {
   "cell_type": "code",
   "execution_count": 26,
   "metadata": {},
   "outputs": [
    {
     "name": "stdout",
     "output_type": "stream",
     "text": [
      "===== Min_cut: 1, Max_cut: 1169, Lowercase: True, Stop-words: None =====\n",
      "# features: \t129927\n",
      "# samples: \t11314\n",
      "Using SVM in dual variables.\n"
     ]
    },
    {
     "name": "stderr",
     "output_type": "stream",
     "text": [
      "5it [01:39, 19.90s/it]\n"
     ]
    },
    {
     "name": "stdout",
     "output_type": "stream",
     "text": [
      "experiment_2\t F1 weighted score: 0.9243255065591418\n",
      "\n",
      "\n",
      "===== Min_cut: 5, Max_cut: 1438, Lowercase: True, Stop-words: english =====\n",
      "# features: \t25595\n",
      "# samples: \t11314\n",
      "Using SVM in dual variables.\n"
     ]
    },
    {
     "name": "stderr",
     "output_type": "stream",
     "text": [
      "5it [00:10,  2.13s/it]\n"
     ]
    },
    {
     "name": "stdout",
     "output_type": "stream",
     "text": [
      "experiment_3\t F1 weighted score: 0.9184699878521497\n",
      "\n",
      "\n",
      "===== Min_cut: 5, Max_cut: 699, Lowercase: True, Stop-words: english =====\n",
      "# features: \t25460\n",
      "# samples: \t11314\n",
      "Using SVM in dual variables.\n"
     ]
    },
    {
     "name": "stderr",
     "output_type": "stream",
     "text": [
      "5it [00:10,  2.06s/it]\n"
     ]
    },
    {
     "name": "stdout",
     "output_type": "stream",
     "text": [
      "experiment_4\t F1 weighted score: 0.9131653142388407\n",
      "\n",
      "\n",
      "===== Min_cut: 10, Max_cut: 1409, Lowercase: False, Stop-words: None =====\n",
      "# features: \t17931\n",
      "# samples: \t11314\n",
      "Using SVM in dual variables.\n"
     ]
    },
    {
     "name": "stderr",
     "output_type": "stream",
     "text": [
      "5it [00:08,  1.74s/it]\n"
     ]
    },
    {
     "name": "stdout",
     "output_type": "stream",
     "text": [
      "experiment_5\t F1 weighted score: 0.9094410180027843\n",
      "\n",
      "\n",
      "===== Min_cut: 4, Max_cut: 793, Lowercase: False, Stop-words: english =====\n",
      "# features: \t36875\n",
      "# samples: \t11314\n",
      "Using SVM in dual variables.\n"
     ]
    },
    {
     "name": "stderr",
     "output_type": "stream",
     "text": [
      "5it [00:14,  2.88s/it]\n"
     ]
    },
    {
     "name": "stdout",
     "output_type": "stream",
     "text": [
      "experiment_6\t F1 weighted score: 0.9185009620061615\n",
      "\n",
      "\n",
      "===== Min_cut: 5, Max_cut: 727, Lowercase: True, Stop-words: None =====\n",
      "# features: \t25620\n",
      "# samples: \t11314\n",
      "Using SVM in dual variables.\n"
     ]
    },
    {
     "name": "stderr",
     "output_type": "stream",
     "text": [
      "5it [00:10,  2.08s/it]\n"
     ]
    },
    {
     "name": "stdout",
     "output_type": "stream",
     "text": [
      "experiment_7\t F1 weighted score: 0.9109599446220031\n",
      "\n",
      "\n",
      "===== Min_cut: 9, Max_cut: 1262, Lowercase: True, Stop-words: english =====\n",
      "# features: \t16528\n",
      "# samples: \t11314\n",
      "Using SVM in dual variables.\n"
     ]
    },
    {
     "name": "stderr",
     "output_type": "stream",
     "text": [
      "5it [00:07,  1.47s/it]\n"
     ]
    },
    {
     "name": "stdout",
     "output_type": "stream",
     "text": [
      "experiment_8\t F1 weighted score: 0.9109785934570507\n",
      "\n",
      "\n",
      "===== Min_cut: 1, Max_cut: 759, Lowercase: False, Stop-words: english =====\n",
      "# features: \t154978\n",
      "# samples: \t11314\n",
      "Using SVM in dual variables.\n"
     ]
    },
    {
     "name": "stderr",
     "output_type": "stream",
     "text": [
      "5it [02:18, 27.70s/it]\n"
     ]
    },
    {
     "name": "stdout",
     "output_type": "stream",
     "text": [
      "experiment_9\t F1 weighted score: 0.9233545953021727\n",
      "\n",
      "\n",
      "===== Min_cut: 2, Max_cut: 1441, Lowercase: False, Stop-words: None =====\n",
      "# features: \t68810\n",
      "# samples: \t11314\n",
      "Using SVM in dual variables.\n"
     ]
    },
    {
     "name": "stderr",
     "output_type": "stream",
     "text": [
      "5it [00:23,  4.76s/it]\n"
     ]
    },
    {
     "name": "stdout",
     "output_type": "stream",
     "text": [
      "experiment_10\t F1 weighted score: 0.9219413987023957\n",
      "\n",
      "\n",
      "===== Min_cut: 3, Max_cut: 1008, Lowercase: False, Stop-words: None =====\n",
      "# features: \t47150\n",
      "# samples: \t11314\n",
      "Using SVM in dual variables.\n"
     ]
    },
    {
     "name": "stderr",
     "output_type": "stream",
     "text": [
      "5it [00:17,  3.46s/it]\n"
     ]
    },
    {
     "name": "stdout",
     "output_type": "stream",
     "text": [
      "experiment_11\t F1 weighted score: 0.9189567691705081\n",
      "\n",
      "\n"
     ]
    }
   ],
   "source": [
    "for min_cutoff, max_cutoff, lowercase, stopwords in cutoffs:\n",
    "    print(f\"===== Min_cut: {min_cutoff}, Max_cut: {max_cutoff}, Lowercase: {lowercase}, Stop-words: {stopwords} =====\")\n",
    "    \n",
    "    # Text pre-processing\n",
    "    vectorizer = TfidfVectorizer(\n",
    "        lowercase = lowercase,\n",
    "        stop_words = stopwords,\n",
    "        min_df = min_cutoff,\n",
    "        max_df = max_cutoff\n",
    "    )\n",
    "    newsgroups_docs = vectorizer.fit_transform(newsgroups[\"data\"]).toarray()\n",
    "\n",
    "    n_features = len(vectorizer.get_feature_names_out())\n",
    "    n_samples = newsgroups_docs.shape[0]\n",
    "\n",
    "    print(f\"# features: \\t{n_features}\")\n",
    "    print(f\"# samples: \\t{n_samples}\")\n",
    "\n",
    "    score = experiment(newsgroups_docs, newsgroups.target)\n",
    "    \n",
    "    experiments[f\"TFIDF_{min_cutoff}_{max_cutoff}\"] = score\n",
    "    print(f\"experiment_{len(experiments.keys())}\\t F1 weighted score: {score}\\n\\n\")\n",
    "    \n",
    "    del newsgroups_docs"
   ]
  },
  {
   "cell_type": "code",
   "execution_count": 27,
   "metadata": {},
   "outputs": [
    {
     "data": {
      "text/plain": [
       "{'CountVectorizer': 0.8844153954751353,\n",
       " 'TFIDF_1_1169': 0.9243255065591418,\n",
       " 'TFIDF_5_1438': 0.9184699878521497,\n",
       " 'TFIDF_5_699': 0.9131653142388407,\n",
       " 'TFIDF_10_1409': 0.9094410180027843,\n",
       " 'TFIDF_4_793': 0.9185009620061615,\n",
       " 'TFIDF_5_727': 0.9109599446220031,\n",
       " 'TFIDF_9_1262': 0.9109785934570507,\n",
       " 'TFIDF_1_759': 0.9233545953021727,\n",
       " 'TFIDF_2_1441': 0.9219413987023957,\n",
       " 'TFIDF_3_1008': 0.9189567691705081}"
      ]
     },
     "execution_count": 27,
     "metadata": {},
     "output_type": "execute_result"
    }
   ],
   "source": [
    "experiments"
   ]
  },
  {
   "cell_type": "code",
   "execution_count": 28,
   "metadata": {},
   "outputs": [],
   "source": [
    "import matplotlib.pyplot as plt"
   ]
  },
  {
   "cell_type": "code",
   "execution_count": 29,
   "metadata": {},
   "outputs": [
    {
     "data": {
      "text/plain": [
       "dict_values([0.8844153954751353, 0.9243255065591418, 0.9184699878521497, 0.9131653142388407, 0.9094410180027843, 0.9185009620061615, 0.9109599446220031, 0.9109785934570507, 0.9233545953021727, 0.9219413987023957, 0.9189567691705081])"
      ]
     },
     "execution_count": 29,
     "metadata": {},
     "output_type": "execute_result"
    }
   ],
   "source": [
    "experiments.values()"
   ]
  },
  {
   "cell_type": "code",
   "execution_count": 30,
   "metadata": {},
   "outputs": [
    {
     "data": {
      "image/png": "[encoded data removed]",
      "text/plain": [
       "<Figure size 640x480 with 1 Axes>"
      ]
     },
     "metadata": {},
     "output_type": "display_data"
    }
   ],
   "source": [
    "plt.title(\"Experiments SVM, CountVectorizer/TF-IDF\")\n",
    "plt.bar(experiments.keys(), experiments.values())\n",
    "plt.grid()\n",
    "plt.xticks(rotation=45, ha='right')\n",
    "plt.yticks(np.arange(0, 1, step=0.05))\n",
    "plt.show()"
   ]
  },
  {
   "cell_type": "code",
   "execution_count": null,
   "metadata": {},
   "outputs": [],
   "source": []
  }
 ],
 "metadata": {
  "kernelspec": {
   "display_name": "Python 3 (ipykernel)",
   "language": "python",
   "name": "python3"
  },
  "language_info": {
   "codemirror_mode": {
    "name": "ipython",
    "version": 3
   },
   "file_extension": ".py",
   "mimetype": "text/x-python",
   "name": "python",
   "nbconvert_exporter": "python",
   "pygments_lexer": "ipython3",
   "version": "3.8.13"
  }
 },
 "nbformat": 4,
 "nbformat_minor": 4
}
